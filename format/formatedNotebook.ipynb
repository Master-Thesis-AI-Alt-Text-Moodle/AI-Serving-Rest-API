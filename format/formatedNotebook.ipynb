{
 "cells": [
  {
   "cell_type": "code",
   "execution_count": 4,
   "metadata": {},
   "outputs": [
    {
     "name": "stdout",
     "output_type": "stream",
     "text": [
      "Searching for Python files in: c:\\Users\\Patrick\\Downloads\\AI_Serving_Rest_API-main\\AI_Serving_Rest_API-main\\app\n",
      "Found 2 Python files\n",
      "Added ./app\\main.py to the notebook\n",
      "Added ./app\\__init__.py to the notebook\n",
      "All files combined into ./app/combined_notebook.ipynb\n"
     ]
    }
   ],
   "source": [
    "import os\n",
    "import nbformat as nbf\n",
    "\n",
    "def py_to_notebook_cell(file_path):\n",
    "    try:\n",
    "        with open(file_path, 'r', encoding='utf-8') as file:\n",
    "            code = file.read()\n",
    "        \n",
    "        relative_path = os.path.relpath(file_path, start=folder_path)\n",
    "        md_cell = nbf.v4.new_markdown_cell(f\"# File: {relative_path}\")\n",
    "        code_cell = nbf.v4.new_code_cell(code)\n",
    "        \n",
    "        return [md_cell, code_cell]\n",
    "    except Exception as e:\n",
    "        print(f\"Error processing file {file_path}: {str(e)}\")\n",
    "        return []\n",
    "\n",
    "def find_python_files(directory):\n",
    "    python_files = []\n",
    "    for root, dirs, files in os.walk(directory):\n",
    "        for file in files:\n",
    "            if file.endswith('.py') and file != '__init__.py':\n",
    "                python_files.append(os.path.join(root, file))\n",
    "    return python_files\n",
    "\n",
    "def main():\n",
    "    global folder_path\n",
    "    folder_path = \"./app/\"  # Sie können diesen Pfad anpassen\n",
    "    print(f\"Searching for Python files in: {os.path.abspath(folder_path)}\")\n",
    "    \n",
    "    notebook = nbf.v4.new_notebook()\n",
    "    \n",
    "    python_files = find_python_files(folder_path)\n",
    "    print(f\"Found {len(python_files)} Python files (excluding __init__.py)\")\n",
    "    \n",
    "    if not python_files:\n",
    "        print(\"No Python files found. Make sure the directory exists and contains .py files.\")\n",
    "        return\n",
    "\n",
    "    for file_path in sorted(python_files):\n",
    "        cells = py_to_notebook_cell(file_path)\n",
    "        notebook.cells.extend(cells)\n",
    "        print(f\"Added {file_path} to the notebook\")\n",
    "    \n",
    "    notebook_path = os.path.join(folder_path, \"combined_notebook.ipynb\")\n",
    "    try:\n",
    "        with open(notebook_path, 'w', encoding='utf-8') as f:\n",
    "            nbf.write(notebook, f)\n",
    "        print(f\"All files combined into {notebook_path}\")\n",
    "    except Exception as e:\n",
    "        print(f\"Error saving notebook: {str(e)}\")\n",
    "\n",
    "if __name__ == \"__main__\":\n",
    "    try:\n",
    "        main()\n",
    "    except Exception as e:\n",
    "        print(f\"An error occurred: {str(e)}\")"
   ]
  }
 ],
 "metadata": {
  "kernelspec": {
   "display_name": "base",
   "language": "python",
   "name": "python3"
  },
  "language_info": {
   "codemirror_mode": {
    "name": "ipython",
    "version": 3
   },
   "file_extension": ".py",
   "mimetype": "text/x-python",
   "name": "python",
   "nbconvert_exporter": "python",
   "pygments_lexer": "ipython3",
   "version": "3.10.9"
  },
  "orig_nbformat": 4
 },
 "nbformat": 4,
 "nbformat_minor": 2
}
